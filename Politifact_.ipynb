{
  "nbformat": 4,
  "nbformat_minor": 0,
  "metadata": {
    "colab": {
      "name": "Politifact .ipynb",
      "provenance": [],
      "collapsed_sections": [
        "Scl5MSa8rkk8",
        "A6BCHIwR9EvW"
      ]
    },
    "kernelspec": {
      "name": "python3",
      "display_name": "Python 3"
    }
  },
  "cells": [
    {
      "cell_type": "markdown",
      "metadata": {
        "id": "DL99cqpbrzTC"
      },
      "source": [
        "## **Installing Scrapy**"
      ]
    },
    {
      "cell_type": "code",
      "metadata": {
        "id": "sK8MG8R2dNmY"
      },
      "source": [
        "!cd content/"
      ],
      "execution_count": null,
      "outputs": []
    },
    {
      "cell_type": "code",
      "metadata": {
        "id": "d-9b6nDYtZ21"
      },
      "source": [
        "!conda install -c conda-forge scrapy\n",
        "!pip install Scrapy"
      ],
      "execution_count": null,
      "outputs": []
    },
    {
      "cell_type": "code",
      "metadata": {
        "id": "e1YJrMAKr0Eu"
      },
      "source": [
        "!scrapy startproject scarpyproject"
      ],
      "execution_count": null,
      "outputs": []
    },
    {
      "cell_type": "code",
      "metadata": {
        "id": "VQVGxVYkr1jL"
      },
      "source": [
        "%cd scarpyproject/scarpyproject/spiders"
      ],
      "execution_count": null,
      "outputs": []
    },
    {
      "cell_type": "code",
      "metadata": {
        "id": "IqeUkUqfr20c"
      },
      "source": [
        "!touch group7_spider.py"
      ],
      "execution_count": null,
      "outputs": []
    },
    {
      "cell_type": "markdown",
      "metadata": {
        "id": "hBsr1bX4wSHu"
      },
      "source": [
        "## **Make a Spider**"
      ]
    },
    {
      "cell_type": "markdown",
      "metadata": {
        "id": "krLVLEOIr4L7"
      },
      "source": [
        "#### **Note:** Below is the spider script which needs to be written in `group7_spider.py` **NOT HERE**!"
      ]
    },
    {
      "cell_type": "code",
      "metadata": {
        "id": "6pPy4INxr7J7"
      },
      "source": [
        "import scrapy\n",
        "\n",
        "class PolitifactSpider(scrapy.Spider):\n",
        "    num_page = 0\n",
        "    name = 'politifact'\n",
        "    start_urls = [\n",
        "        'https://www.politifact.com/factchecks/'\n",
        "    ]\n",
        "\n",
        "    def parse(self, response):\n",
        "        items = ScarpyprojectItem()\n",
        "\n",
        "        all_div_list_items = response.css('li.o-listicle__item')\n",
        "\n",
        "        for list_item in all_div_list_items:\n",
        "            link = list_item.css('.m-statement__quote a::attr(href)').get()\n",
        "\n",
        "            yield response.follow(link, callback=self.parseInner)\n",
        "\n",
        "        if self.num_page == 0:\n",
        "            next_page = response.css('li.m-list__item a.c-button--hollow::attr(href)').get()\n",
        "        else:\n",
        "            next_page = response.css('.m-list__item+ .m-list__item .c-button--hollow::attr(href)').get()\n",
        "\n",
        "        if next_page is not None:\n",
        "            if self.num_page < 1:\n",
        "                self.num_page += 1\n",
        "                yield response.follow(next_page, callback=self.parse)\n",
        "\n",
        "    def parseInner(self, response):\n",
        "        items = ScarpyprojectItem()\n",
        "        title = response.css('article.m-statement--is-xlarge div.m-statement__quote::text').extract()\n",
        "        description = response.css('.m-textblock p::text').extract()\n",
        "        published_at = response.css('.m-author__date::text').extract()\n",
        "        authors = response.css('.u-color--chateau a::text').extract()\n",
        "        tags = response.css('.c-tag span::text').extract()\n",
        "        short_description = response.css('.short-on-time p::text').extract()\n",
        "        if(short_description is None):\n",
        "            short_description = response.css('div.short-on-time li.selectorgadget_selected::text').extract()\n",
        "            if (short_description is None):\n",
        "                short_description = response.css('.short-on-time li::text').extract()\n",
        "                if (short_description is None):\n",
        "                    short_description = response.css('.short-on-time span::text').extract()\n",
        "\n",
        "        image = response.css('img.lozad::attr(data-src)').extract()\n",
        "        images = response.css('div.artembed img::attr(src)').extract()\n",
        "        status = response.css('article.m-statement--is-xlarge img.c-image__original::attr(alt)').get()\n",
        "\n",
        "        items['title'] = title\n",
        "        items['link'] = response.request.url\n",
        "        items['description'] = description\n",
        "        items['published_at'] = published_at\n",
        "        items['authors'] = authors\n",
        "        items['tags'] = tags\n",
        "        items['short_description'] = short_description\n",
        "        items['image'] = image\n",
        "        items['images'] = images\n",
        "        items['status'] = status\n",
        "\n",
        "        yield items"
      ],
      "execution_count": null,
      "outputs": []
    },
    {
      "cell_type": "code",
      "metadata": {
        "id": "w5AhjVVlt4v1"
      },
      "source": [
        "%cd .."
      ],
      "execution_count": null,
      "outputs": []
    },
    {
      "cell_type": "markdown",
      "metadata": {
        "id": "WWIBRUOcsQgP"
      },
      "source": [
        "## **Run the Spider**"
      ]
    },
    {
      "cell_type": "code",
      "metadata": {
        "id": "xqigANxYsQPM"
      },
      "source": [
        "!pwd #it should be /content/tutorial/tutorial"
      ],
      "execution_count": null,
      "outputs": []
    },
    {
      "cell_type": "code",
      "metadata": {
        "id": "Gdo0qW90FdZL"
      },
      "source": [
        "%cd /content/scarpyproject/scarpyproject"
      ],
      "execution_count": null,
      "outputs": []
    },
    {
      "cell_type": "code",
      "metadata": {
        "id": "cbTwfmjoVp7h"
      },
      "source": [
        "!scrapy crawl PolitifactSpider -o result.csv "
      ],
      "execution_count": null,
      "outputs": []
    },
    {
      "cell_type": "code",
      "metadata": {
        "id": "zsW4FtDlMFSq"
      },
      "source": [
        "from google.colab import files\n",
        "\n",
        "files.download('./result.csv') "
      ],
      "execution_count": null,
      "outputs": []
    },
    {
      "cell_type": "markdown",
      "metadata": {
        "id": "A6BCHIwR9EvW"
      },
      "source": [
        "\n",
        "\n",
        "# Add 1 Second Delay For Polity"
      ]
    },
    {
      "cell_type": "code",
      "metadata": {
        "id": "c_hqLbBIYZ6Z"
      },
      "source": [
        "from google.colab import files\n",
        "\n",
        "files.download('./settings.py') \n",
        "#search for DOWNLOAD_DELAY in the file and oncomment it and change the time to 1 second and save file"
      ],
      "execution_count": null,
      "outputs": []
    },
    {
      "cell_type": "code",
      "metadata": {
        "id": "tQQJBSi_7WUi"
      },
      "source": [
        "!pwd #it should be /content/tutorial/tutorial"
      ],
      "execution_count": null,
      "outputs": []
    },
    {
      "cell_type": "code",
      "metadata": {
        "id": "POG3iffo-Ii0"
      },
      "source": [
        "!ls\n",
        "#it shoud be settings.py in the list"
      ],
      "execution_count": null,
      "outputs": []
    },
    {
      "cell_type": "code",
      "metadata": {
        "id": "J86I0XYo-sfc"
      },
      "source": [
        "!rm settings.py\n",
        "#then from the inner \"tutorial\" folder options select upload and select modified settings.py and run the crawler"
      ],
      "execution_count": null,
      "outputs": []
    },
    {
      "cell_type": "code",
      "metadata": {
        "id": "_0ITziVezEUn"
      },
      "source": [
        ""
      ],
      "execution_count": null,
      "outputs": []
    }
  ]
}