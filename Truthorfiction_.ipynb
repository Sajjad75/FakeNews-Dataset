{
  "nbformat": 4,
  "nbformat_minor": 0,
  "metadata": {
    "colab": {
      "name": "Truthorfiction .ipynb",
      "provenance": [],
      "collapsed_sections": []
    },
    "kernelspec": {
      "display_name": "Python 3",
      "name": "python3"
    }
  },
  "cells": [
    {
      "cell_type": "code",
      "metadata": {
        "colab": {
          "base_uri": "https://localhost:8080/"
        },
        "id": "ImGS-dlQqzU2",
        "outputId": "afbe8ea6-d0bf-4d1c-fc83-198ade7d8909"
      },
      "source": [
        "pip install requests beautifulsoup4 "
      ],
      "execution_count": null,
      "outputs": [
        {
          "output_type": "stream",
          "text": [
            "Requirement already satisfied: requests in /usr/local/lib/python3.7/dist-packages (2.23.0)\n",
            "Requirement already satisfied: beautifulsoup4 in /usr/local/lib/python3.7/dist-packages (4.6.3)\n",
            "Requirement already satisfied: urllib3!=1.25.0,!=1.25.1,<1.26,>=1.21.1 in /usr/local/lib/python3.7/dist-packages (from requests) (1.24.3)\n",
            "Requirement already satisfied: certifi>=2017.4.17 in /usr/local/lib/python3.7/dist-packages (from requests) (2021.5.30)\n",
            "Requirement already satisfied: idna<3,>=2.5 in /usr/local/lib/python3.7/dist-packages (from requests) (2.10)\n",
            "Requirement already satisfied: chardet<4,>=3.0.2 in /usr/local/lib/python3.7/dist-packages (from requests) (3.0.4)\n"
          ],
          "name": "stdout"
        }
      ]
    },
    {
      "cell_type": "code",
      "metadata": {
        "id": "8qI5_jysq6yw"
      },
      "source": [
        "from bs4 import BeautifulSoup\n",
        "import requests"
      ],
      "execution_count": null,
      "outputs": []
    },
    {
      "cell_type": "code",
      "metadata": {
        "id": "9X_ofT0uwZHK"
      },
      "source": [
        "News_topic = []\n",
        "News_headline = []\n",
        "Site_address = []\n",
        "News_text = []\n",
        "Date_of_news_release = []\n",
        "tags=[]\n",
        "author_name = []\n",
        "url=[]"
      ],
      "execution_count": null,
      "outputs": []
    },
    {
      "cell_type": "code",
      "metadata": {
        "id": "Qk3OfhVays3l"
      },
      "source": [
        "def headLines(soup):\n",
        "  s = soup.find_all(\"h2\", attrs={\"class\": \"entry-title\"})\n",
        "  \n",
        "  for i in range(len(s)) :\n",
        "    News_headline.append(s[i].get_text())\n",
        "  return News_headline"
      ],
      "execution_count": null,
      "outputs": []
    },
    {
      "cell_type": "code",
      "metadata": {
        "id": "O4KuanVf9dtM"
      },
      "source": [
        "def site_add(soup):\n",
        "  s = soup.find_all(\"h2\", attrs={\"class\": \"entry-title\"})\n",
        "  \n",
        "  for i in range(len(s)) :\n",
        "    for link in s[i]:\n",
        "      Site_address.append(link.get('href'))\n",
        "  return Site_address"
      ],
      "execution_count": null,
      "outputs": []
    },
    {
      "cell_type": "code",
      "metadata": {
        "id": "_L9Tr2zx_4di"
      },
      "source": [
        "def news_text(site):  \n",
        "  for i in site:\n",
        "    html_content = requests.get(i).text\n",
        "    soup2 = BeautifulSoup(html_content, \"lxml\")\n",
        "    s2 = soup2.find_all(\"div\", attrs={\"class\": \"entry-content clear\"})\n",
        "    for i in range(len(s2)):\n",
        "      News_text.append(s2[i].get_text())\n",
        "\n",
        "  \n",
        "  return News_text"
      ],
      "execution_count": null,
      "outputs": []
    },
    {
      "cell_type": "code",
      "metadata": {
        "id": "0sDjJMMfBLbX"
      },
      "source": [
        "def date_tag(soup):\n",
        "  s3 = soup.find_all(\"span\", attrs={\"class\": \"published\"})\n",
        "  \n",
        "  for i in range(len(s3)):\n",
        "    Date_of_news_release.append(s3[i].get_text())\n",
        "  \n",
        "  for url in Site_address :\n",
        "    html_content2 = requests.get(url).text\n",
        "    soup2 = BeautifulSoup(html_content2, \"lxml\")\n",
        "    s4 = soup2.find(\"div\", attrs={\"class\": \"rating-description\"})\n",
        "    if s4 == None :\n",
        "      tags.append(\"This news has no tags\")\n",
        "    else :\n",
        "      tags.append(s4.get_text())\n",
        "  return Date_of_news_release, tags"
      ],
      "execution_count": null,
      "outputs": []
    },
    {
      "cell_type": "code",
      "metadata": {
        "id": "y4B6i9VlLtRk"
      },
      "source": [
        "def author(soup):  \n",
        "  s5 = soup.find_all(\"span\", attrs={\"class\": \"author-name\"})\n",
        "  \n",
        "  for i in range(len(s5)):\n",
        "    author_name.append(s5[i].get_text())\n",
        "  return author_name"
      ],
      "execution_count": null,
      "outputs": []
    },
    {
      "cell_type": "code",
      "metadata": {
        "id": "bf1NmLg0MtS1"
      },
      "source": [
        "def topics(soup):  \n",
        "  s6 = soup.find_all(\"span\", attrs={\"class\": \"cat-links\"})\n",
        "  \n",
        "  for i in range(len(s6)):\n",
        "    News_topic.append(s6[i].get_text())\n",
        "  return News_topic"
      ],
      "execution_count": null,
      "outputs": []
    },
    {
      "cell_type": "markdown",
      "metadata": {
        "id": "uegcPoZQwitq"
      },
      "source": [
        "our MAIN\n"
      ]
    },
    {
      "cell_type": "code",
      "metadata": {
        "colab": {
          "base_uri": "https://localhost:8080/"
        },
        "id": "pe9dKGN5wgm7",
        "outputId": "f8fa0b56-14ea-4b9e-a61e-966dd6b21be6"
      },
      "source": [
        "i=1\n",
        "url.append(\"https://www.truthorfiction.com/category/fact-checks/page/\" + str(i) +\"/\")\n",
        "while i<=30:\n",
        "    page = requests.get(url[i-1])\n",
        "    i = i+1\n",
        "    print(page.status_code)\n",
        "    if page.status_code != 200:\n",
        "        break\n",
        "    url.append(\"https://www.truthorfiction.com/category/fact-checks/page/\" + str(i) +\"/\")\n",
        "\n",
        "url\n"
      ],
      "execution_count": null,
      "outputs": [
        {
          "output_type": "stream",
          "text": [
            "200\n",
            "200\n",
            "200\n",
            "200\n",
            "200\n",
            "200\n",
            "200\n",
            "200\n",
            "200\n",
            "200\n",
            "200\n",
            "200\n",
            "200\n",
            "200\n",
            "200\n",
            "200\n",
            "200\n",
            "200\n",
            "200\n",
            "200\n",
            "200\n",
            "200\n",
            "200\n",
            "200\n",
            "200\n",
            "200\n",
            "200\n",
            "200\n",
            "200\n",
            "200\n"
          ],
          "name": "stdout"
        },
        {
          "output_type": "execute_result",
          "data": {
            "text/plain": [
              "['https://www.truthorfiction.com/category/fact-checks/page/198/',\n",
              " 'https://www.truthorfiction.com/category/fact-checks/page/199/',\n",
              " 'https://www.truthorfiction.com/category/fact-checks/page/200/',\n",
              " 'https://www.truthorfiction.com/category/fact-checks/page/201/',\n",
              " 'https://www.truthorfiction.com/category/fact-checks/page/202/',\n",
              " 'https://www.truthorfiction.com/category/fact-checks/page/203/',\n",
              " 'https://www.truthorfiction.com/category/fact-checks/page/204/',\n",
              " 'https://www.truthorfiction.com/category/fact-checks/page/205/',\n",
              " 'https://www.truthorfiction.com/category/fact-checks/page/206/',\n",
              " 'https://www.truthorfiction.com/category/fact-checks/page/207/',\n",
              " 'https://www.truthorfiction.com/category/fact-checks/page/208/',\n",
              " 'https://www.truthorfiction.com/category/fact-checks/page/209/',\n",
              " 'https://www.truthorfiction.com/category/fact-checks/page/210/',\n",
              " 'https://www.truthorfiction.com/category/fact-checks/page/211/',\n",
              " 'https://www.truthorfiction.com/category/fact-checks/page/212/',\n",
              " 'https://www.truthorfiction.com/category/fact-checks/page/213/',\n",
              " 'https://www.truthorfiction.com/category/fact-checks/page/214/',\n",
              " 'https://www.truthorfiction.com/category/fact-checks/page/215/',\n",
              " 'https://www.truthorfiction.com/category/fact-checks/page/216/',\n",
              " 'https://www.truthorfiction.com/category/fact-checks/page/217/',\n",
              " 'https://www.truthorfiction.com/category/fact-checks/page/218/',\n",
              " 'https://www.truthorfiction.com/category/fact-checks/page/219/',\n",
              " 'https://www.truthorfiction.com/category/fact-checks/page/220/',\n",
              " 'https://www.truthorfiction.com/category/fact-checks/page/221/',\n",
              " 'https://www.truthorfiction.com/category/fact-checks/page/222/',\n",
              " 'https://www.truthorfiction.com/category/fact-checks/page/1/',\n",
              " 'https://www.truthorfiction.com/category/fact-checks/page/2/',\n",
              " 'https://www.truthorfiction.com/category/fact-checks/page/3/',\n",
              " 'https://www.truthorfiction.com/category/fact-checks/page/4/',\n",
              " 'https://www.truthorfiction.com/category/fact-checks/page/5/',\n",
              " 'https://www.truthorfiction.com/category/fact-checks/page/6/',\n",
              " 'https://www.truthorfiction.com/category/fact-checks/page/7/',\n",
              " 'https://www.truthorfiction.com/category/fact-checks/page/8/',\n",
              " 'https://www.truthorfiction.com/category/fact-checks/page/9/',\n",
              " 'https://www.truthorfiction.com/category/fact-checks/page/10/',\n",
              " 'https://www.truthorfiction.com/category/fact-checks/page/11/',\n",
              " 'https://www.truthorfiction.com/category/fact-checks/page/12/',\n",
              " 'https://www.truthorfiction.com/category/fact-checks/page/13/',\n",
              " 'https://www.truthorfiction.com/category/fact-checks/page/14/',\n",
              " 'https://www.truthorfiction.com/category/fact-checks/page/15/',\n",
              " 'https://www.truthorfiction.com/category/fact-checks/page/16/',\n",
              " 'https://www.truthorfiction.com/category/fact-checks/page/17/',\n",
              " 'https://www.truthorfiction.com/category/fact-checks/page/18/',\n",
              " 'https://www.truthorfiction.com/category/fact-checks/page/19/',\n",
              " 'https://www.truthorfiction.com/category/fact-checks/page/20/',\n",
              " 'https://www.truthorfiction.com/category/fact-checks/page/21/',\n",
              " 'https://www.truthorfiction.com/category/fact-checks/page/22/',\n",
              " 'https://www.truthorfiction.com/category/fact-checks/page/23/',\n",
              " 'https://www.truthorfiction.com/category/fact-checks/page/24/',\n",
              " 'https://www.truthorfiction.com/category/fact-checks/page/25/',\n",
              " 'https://www.truthorfiction.com/category/fact-checks/page/26/',\n",
              " 'https://www.truthorfiction.com/category/fact-checks/page/27/',\n",
              " 'https://www.truthorfiction.com/category/fact-checks/page/28/',\n",
              " 'https://www.truthorfiction.com/category/fact-checks/page/29/',\n",
              " 'https://www.truthorfiction.com/category/fact-checks/page/30/',\n",
              " 'https://www.truthorfiction.com/category/fact-checks/page/31/']"
            ]
          },
          "metadata": {},
          "execution_count": 14
        }
      ]
    },
    {
      "cell_type": "code",
      "metadata": {
        "id": "XNAGBnS80jjO",
        "colab": {
          "base_uri": "https://localhost:8080/"
        },
        "outputId": "dd5e569e-90ec-49d7-c012-d86bdffec45b"
      },
      "source": [
        "import time\n",
        "#del url[:197]\n",
        "for i in url:\n",
        "  \n",
        "  html_content = requests.get(i).text\n",
        "  soup2 = BeautifulSoup(html_content, \"lxml\")\n",
        "  headLines(soup2)\n",
        "  site_add(soup2)\n",
        "  news_text(Site_address)\n",
        "  date_tag(soup2)\n",
        "  author(soup2)\n",
        "  topics(soup2)\n",
        "  print(i)"
      ],
      "execution_count": null,
      "outputs": [
        {
          "output_type": "stream",
          "text": [
            "https://www.truthorfiction.com/category/fact-checks/page/198/\n",
            "https://www.truthorfiction.com/category/fact-checks/page/199/\n",
            "https://www.truthorfiction.com/category/fact-checks/page/200/\n",
            "https://www.truthorfiction.com/category/fact-checks/page/201/\n",
            "https://www.truthorfiction.com/category/fact-checks/page/202/\n",
            "https://www.truthorfiction.com/category/fact-checks/page/203/\n",
            "https://www.truthorfiction.com/category/fact-checks/page/204/\n",
            "https://www.truthorfiction.com/category/fact-checks/page/205/\n",
            "https://www.truthorfiction.com/category/fact-checks/page/206/\n",
            "https://www.truthorfiction.com/category/fact-checks/page/207/\n",
            "https://www.truthorfiction.com/category/fact-checks/page/208/\n",
            "https://www.truthorfiction.com/category/fact-checks/page/209/\n",
            "https://www.truthorfiction.com/category/fact-checks/page/210/\n",
            "https://www.truthorfiction.com/category/fact-checks/page/211/\n",
            "https://www.truthorfiction.com/category/fact-checks/page/212/\n",
            "https://www.truthorfiction.com/category/fact-checks/page/213/\n",
            "https://www.truthorfiction.com/category/fact-checks/page/214/\n",
            "https://www.truthorfiction.com/category/fact-checks/page/215/\n",
            "https://www.truthorfiction.com/category/fact-checks/page/216/\n",
            "https://www.truthorfiction.com/category/fact-checks/page/217/\n",
            "https://www.truthorfiction.com/category/fact-checks/page/218/\n",
            "https://www.truthorfiction.com/category/fact-checks/page/219/\n",
            "https://www.truthorfiction.com/category/fact-checks/page/220/\n",
            "https://www.truthorfiction.com/category/fact-checks/page/221/\n",
            "https://www.truthorfiction.com/category/fact-checks/page/222/\n",
            "https://www.truthorfiction.com/category/fact-checks/page/1/\n",
            "https://www.truthorfiction.com/category/fact-checks/page/2/\n",
            "https://www.truthorfiction.com/category/fact-checks/page/3/\n",
            "https://www.truthorfiction.com/category/fact-checks/page/4/\n",
            "https://www.truthorfiction.com/category/fact-checks/page/5/\n",
            "https://www.truthorfiction.com/category/fact-checks/page/6/\n",
            "https://www.truthorfiction.com/category/fact-checks/page/7/\n",
            "https://www.truthorfiction.com/category/fact-checks/page/8/\n",
            "https://www.truthorfiction.com/category/fact-checks/page/9/\n",
            "https://www.truthorfiction.com/category/fact-checks/page/10/\n",
            "https://www.truthorfiction.com/category/fact-checks/page/11/\n",
            "https://www.truthorfiction.com/category/fact-checks/page/12/\n",
            "https://www.truthorfiction.com/category/fact-checks/page/13/\n",
            "https://www.truthorfiction.com/category/fact-checks/page/14/\n",
            "https://www.truthorfiction.com/category/fact-checks/page/15/\n",
            "https://www.truthorfiction.com/category/fact-checks/page/16/\n",
            "https://www.truthorfiction.com/category/fact-checks/page/17/\n",
            "https://www.truthorfiction.com/category/fact-checks/page/18/\n",
            "https://www.truthorfiction.com/category/fact-checks/page/19/\n",
            "https://www.truthorfiction.com/category/fact-checks/page/20/\n",
            "https://www.truthorfiction.com/category/fact-checks/page/21/\n",
            "https://www.truthorfiction.com/category/fact-checks/page/22/\n",
            "https://www.truthorfiction.com/category/fact-checks/page/23/\n",
            "https://www.truthorfiction.com/category/fact-checks/page/24/\n",
            "https://www.truthorfiction.com/category/fact-checks/page/25/\n",
            "https://www.truthorfiction.com/category/fact-checks/page/26/\n",
            "https://www.truthorfiction.com/category/fact-checks/page/27/\n",
            "https://www.truthorfiction.com/category/fact-checks/page/28/\n",
            "https://www.truthorfiction.com/category/fact-checks/page/29/\n",
            "https://www.truthorfiction.com/category/fact-checks/page/30/\n",
            "https://www.truthorfiction.com/category/fact-checks/page/31/\n"
          ],
          "name": "stdout"
        }
      ]
    },
    {
      "cell_type": "code",
      "metadata": {
        "id": "fNfWQtGGOSgX"
      },
      "source": [
        "rows = zip(News_headline , Site_address , News_text , Date_of_news_release , tags , author_name , News_topic)\n",
        "import csv\n",
        "\n",
        "with open(\"outputs.csv\", \"w\") as f:\n",
        "    writer = csv.writer(f)\n",
        "    for row in rows:\n",
        "        writer.writerow(row)"
      ],
      "execution_count": null,
      "outputs": []
    },
    {
      "cell_type": "code",
      "metadata": {
        "id": "TPi5JnTpfvoz"
      },
      "source": [
        ""
      ],
      "execution_count": null,
      "outputs": []
    }
  ]
}